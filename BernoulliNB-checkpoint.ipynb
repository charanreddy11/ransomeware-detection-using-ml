{
 "cells": [
  {
   "cell_type": "markdown",
   "id": "c2aac929",
   "metadata": {},
   "source": [
    "### A Comparative Investigation on the Application of Machine Learning for Ransomware Detection"
   ]
  },
  {
   "cell_type": "code",
   "execution_count": 1,
   "id": "84fa4c0e",
   "metadata": {},
   "outputs": [],
   "source": [
    "import pandas as pd\n",
    "import numpy as np\n",
    "from matplotlib import pyplot as plt"
   ]
  },
  {
   "cell_type": "code",
   "execution_count": 2,
   "id": "34136116",
   "metadata": {},
   "outputs": [],
   "source": [
    "from statsmodels.stats.outliers_influence import variance_inflation_factor as vif\n",
    "from sklearn.model_selection import train_test_split\n",
    "from sklearn.metrics import confusion_matrix\n",
    "from mlxtend.plotting import plot_confusion_matrix\n",
    "import seaborn as sns\n",
    "import warnings\n",
    "warnings.filterwarnings(\"ignore\")"
   ]
  },
  {
   "cell_type": "markdown",
   "id": "6d5e187f",
   "metadata": {},
   "source": [
    "### Dataset Exploration"
   ]
  },
  {
   "cell_type": "markdown",
   "id": "3a49b894",
   "metadata": {},
   "source": [
    "#### Reading the dataset"
   ]
  },
  {
   "cell_type": "code",
   "execution_count": 3,
   "id": "ea6858e5",
   "metadata": {},
   "outputs": [],
   "source": [
    "data = pd.read_csv(\"Ransomware.csv\",sep='|')"
   ]
  },
  {
   "cell_type": "code",
   "execution_count": 4,
   "id": "63665eed",
   "metadata": {},
   "outputs": [
    {
     "data": {
      "text/html": [
       "<div>\n",
       "<style scoped>\n",
       "    .dataframe tbody tr th:only-of-type {\n",
       "        vertical-align: middle;\n",
       "    }\n",
       "\n",
       "    .dataframe tbody tr th {\n",
       "        vertical-align: top;\n",
       "    }\n",
       "\n",
       "    .dataframe thead th {\n",
       "        text-align: right;\n",
       "    }\n",
       "</style>\n",
       "<table border=\"1\" class=\"dataframe\">\n",
       "  <thead>\n",
       "    <tr style=\"text-align: right;\">\n",
       "      <th></th>\n",
       "      <th>Name</th>\n",
       "      <th>md5</th>\n",
       "      <th>Machine</th>\n",
       "      <th>SizeOfOptionalHeader</th>\n",
       "      <th>Characteristics</th>\n",
       "      <th>MajorLinkerVersion</th>\n",
       "      <th>MinorLinkerVersion</th>\n",
       "      <th>SizeOfCode</th>\n",
       "      <th>SizeOfInitializedData</th>\n",
       "      <th>SizeOfUninitializedData</th>\n",
       "      <th>...</th>\n",
       "      <th>ResourcesNb</th>\n",
       "      <th>ResourcesMeanEntropy</th>\n",
       "      <th>ResourcesMinEntropy</th>\n",
       "      <th>ResourcesMaxEntropy</th>\n",
       "      <th>ResourcesMeanSize</th>\n",
       "      <th>ResourcesMinSize</th>\n",
       "      <th>ResourcesMaxSize</th>\n",
       "      <th>LoadConfigurationSize</th>\n",
       "      <th>VersionInformationSize</th>\n",
       "      <th>legitimate</th>\n",
       "    </tr>\n",
       "  </thead>\n",
       "  <tbody>\n",
       "    <tr>\n",
       "      <th>0</th>\n",
       "      <td>memtest.exe</td>\n",
       "      <td>631ea355665f28d4707448e442fbf5b8</td>\n",
       "      <td>332</td>\n",
       "      <td>224</td>\n",
       "      <td>258</td>\n",
       "      <td>9</td>\n",
       "      <td>0</td>\n",
       "      <td>361984</td>\n",
       "      <td>115712</td>\n",
       "      <td>0</td>\n",
       "      <td>...</td>\n",
       "      <td>4</td>\n",
       "      <td>3.262823</td>\n",
       "      <td>2.568844</td>\n",
       "      <td>3.537939</td>\n",
       "      <td>8797.000000</td>\n",
       "      <td>216</td>\n",
       "      <td>18032</td>\n",
       "      <td>0</td>\n",
       "      <td>16</td>\n",
       "      <td>1</td>\n",
       "    </tr>\n",
       "    <tr>\n",
       "      <th>1</th>\n",
       "      <td>ose.exe</td>\n",
       "      <td>9d10f99a6712e28f8acd5641e3a7ea6b</td>\n",
       "      <td>332</td>\n",
       "      <td>224</td>\n",
       "      <td>3330</td>\n",
       "      <td>9</td>\n",
       "      <td>0</td>\n",
       "      <td>130560</td>\n",
       "      <td>19968</td>\n",
       "      <td>0</td>\n",
       "      <td>...</td>\n",
       "      <td>2</td>\n",
       "      <td>4.250461</td>\n",
       "      <td>3.420744</td>\n",
       "      <td>5.080177</td>\n",
       "      <td>837.000000</td>\n",
       "      <td>518</td>\n",
       "      <td>1156</td>\n",
       "      <td>72</td>\n",
       "      <td>18</td>\n",
       "      <td>1</td>\n",
       "    </tr>\n",
       "    <tr>\n",
       "      <th>2</th>\n",
       "      <td>setup.exe</td>\n",
       "      <td>4d92f518527353c0db88a70fddcfd390</td>\n",
       "      <td>332</td>\n",
       "      <td>224</td>\n",
       "      <td>3330</td>\n",
       "      <td>9</td>\n",
       "      <td>0</td>\n",
       "      <td>517120</td>\n",
       "      <td>621568</td>\n",
       "      <td>0</td>\n",
       "      <td>...</td>\n",
       "      <td>11</td>\n",
       "      <td>4.426324</td>\n",
       "      <td>2.846449</td>\n",
       "      <td>5.271813</td>\n",
       "      <td>31102.272727</td>\n",
       "      <td>104</td>\n",
       "      <td>270376</td>\n",
       "      <td>72</td>\n",
       "      <td>18</td>\n",
       "      <td>1</td>\n",
       "    </tr>\n",
       "    <tr>\n",
       "      <th>3</th>\n",
       "      <td>DW20.EXE</td>\n",
       "      <td>a41e524f8d45f0074fd07805ff0c9b12</td>\n",
       "      <td>332</td>\n",
       "      <td>224</td>\n",
       "      <td>258</td>\n",
       "      <td>9</td>\n",
       "      <td>0</td>\n",
       "      <td>585728</td>\n",
       "      <td>369152</td>\n",
       "      <td>0</td>\n",
       "      <td>...</td>\n",
       "      <td>10</td>\n",
       "      <td>4.364291</td>\n",
       "      <td>2.669314</td>\n",
       "      <td>6.400720</td>\n",
       "      <td>1457.000000</td>\n",
       "      <td>90</td>\n",
       "      <td>4264</td>\n",
       "      <td>72</td>\n",
       "      <td>18</td>\n",
       "      <td>1</td>\n",
       "    </tr>\n",
       "    <tr>\n",
       "      <th>4</th>\n",
       "      <td>dwtrig20.exe</td>\n",
       "      <td>c87e561258f2f8650cef999bf643a731</td>\n",
       "      <td>332</td>\n",
       "      <td>224</td>\n",
       "      <td>258</td>\n",
       "      <td>9</td>\n",
       "      <td>0</td>\n",
       "      <td>294912</td>\n",
       "      <td>247296</td>\n",
       "      <td>0</td>\n",
       "      <td>...</td>\n",
       "      <td>2</td>\n",
       "      <td>4.306100</td>\n",
       "      <td>3.421598</td>\n",
       "      <td>5.190603</td>\n",
       "      <td>1074.500000</td>\n",
       "      <td>849</td>\n",
       "      <td>1300</td>\n",
       "      <td>72</td>\n",
       "      <td>18</td>\n",
       "      <td>1</td>\n",
       "    </tr>\n",
       "    <tr>\n",
       "      <th>...</th>\n",
       "      <td>...</td>\n",
       "      <td>...</td>\n",
       "      <td>...</td>\n",
       "      <td>...</td>\n",
       "      <td>...</td>\n",
       "      <td>...</td>\n",
       "      <td>...</td>\n",
       "      <td>...</td>\n",
       "      <td>...</td>\n",
       "      <td>...</td>\n",
       "      <td>...</td>\n",
       "      <td>...</td>\n",
       "      <td>...</td>\n",
       "      <td>...</td>\n",
       "      <td>...</td>\n",
       "      <td>...</td>\n",
       "      <td>...</td>\n",
       "      <td>...</td>\n",
       "      <td>...</td>\n",
       "      <td>...</td>\n",
       "      <td>...</td>\n",
       "    </tr>\n",
       "    <tr>\n",
       "      <th>138042</th>\n",
       "      <td>VirusShare_8e292b418568d6e7b87f2a32aee7074b</td>\n",
       "      <td>8e292b418568d6e7b87f2a32aee7074b</td>\n",
       "      <td>332</td>\n",
       "      <td>224</td>\n",
       "      <td>258</td>\n",
       "      <td>11</td>\n",
       "      <td>0</td>\n",
       "      <td>205824</td>\n",
       "      <td>223744</td>\n",
       "      <td>0</td>\n",
       "      <td>...</td>\n",
       "      <td>7</td>\n",
       "      <td>4.122736</td>\n",
       "      <td>1.370260</td>\n",
       "      <td>7.677091</td>\n",
       "      <td>14900.714286</td>\n",
       "      <td>16</td>\n",
       "      <td>81654</td>\n",
       "      <td>72</td>\n",
       "      <td>0</td>\n",
       "      <td>0</td>\n",
       "    </tr>\n",
       "    <tr>\n",
       "      <th>138043</th>\n",
       "      <td>VirusShare_260d9e2258aed4c8a3bbd703ec895822</td>\n",
       "      <td>260d9e2258aed4c8a3bbd703ec895822</td>\n",
       "      <td>332</td>\n",
       "      <td>224</td>\n",
       "      <td>33167</td>\n",
       "      <td>2</td>\n",
       "      <td>25</td>\n",
       "      <td>37888</td>\n",
       "      <td>185344</td>\n",
       "      <td>0</td>\n",
       "      <td>...</td>\n",
       "      <td>26</td>\n",
       "      <td>3.377663</td>\n",
       "      <td>2.031619</td>\n",
       "      <td>5.050074</td>\n",
       "      <td>6905.846154</td>\n",
       "      <td>44</td>\n",
       "      <td>67624</td>\n",
       "      <td>0</td>\n",
       "      <td>15</td>\n",
       "      <td>0</td>\n",
       "    </tr>\n",
       "    <tr>\n",
       "      <th>138044</th>\n",
       "      <td>VirusShare_8d088a51b7d225c9f5d11d239791ec3f</td>\n",
       "      <td>8d088a51b7d225c9f5d11d239791ec3f</td>\n",
       "      <td>332</td>\n",
       "      <td>224</td>\n",
       "      <td>258</td>\n",
       "      <td>10</td>\n",
       "      <td>0</td>\n",
       "      <td>118272</td>\n",
       "      <td>380416</td>\n",
       "      <td>0</td>\n",
       "      <td>...</td>\n",
       "      <td>22</td>\n",
       "      <td>6.825406</td>\n",
       "      <td>2.617026</td>\n",
       "      <td>7.990487</td>\n",
       "      <td>14981.909091</td>\n",
       "      <td>48</td>\n",
       "      <td>22648</td>\n",
       "      <td>72</td>\n",
       "      <td>14</td>\n",
       "      <td>0</td>\n",
       "    </tr>\n",
       "    <tr>\n",
       "      <th>138045</th>\n",
       "      <td>VirusShare_4286dccf67ca220fe67635388229a9f3</td>\n",
       "      <td>4286dccf67ca220fe67635388229a9f3</td>\n",
       "      <td>332</td>\n",
       "      <td>224</td>\n",
       "      <td>33166</td>\n",
       "      <td>2</td>\n",
       "      <td>25</td>\n",
       "      <td>49152</td>\n",
       "      <td>16896</td>\n",
       "      <td>0</td>\n",
       "      <td>...</td>\n",
       "      <td>10</td>\n",
       "      <td>3.421627</td>\n",
       "      <td>2.060964</td>\n",
       "      <td>4.739744</td>\n",
       "      <td>601.600000</td>\n",
       "      <td>16</td>\n",
       "      <td>2216</td>\n",
       "      <td>0</td>\n",
       "      <td>0</td>\n",
       "      <td>0</td>\n",
       "    </tr>\n",
       "    <tr>\n",
       "      <th>138046</th>\n",
       "      <td>VirusShare_d7648eae45f09b3adb75127f43be6d11</td>\n",
       "      <td>d7648eae45f09b3adb75127f43be6d11</td>\n",
       "      <td>332</td>\n",
       "      <td>224</td>\n",
       "      <td>258</td>\n",
       "      <td>11</td>\n",
       "      <td>0</td>\n",
       "      <td>111616</td>\n",
       "      <td>468480</td>\n",
       "      <td>0</td>\n",
       "      <td>...</td>\n",
       "      <td>4</td>\n",
       "      <td>4.407252</td>\n",
       "      <td>1.980482</td>\n",
       "      <td>6.115374</td>\n",
       "      <td>96625.000000</td>\n",
       "      <td>20</td>\n",
       "      <td>318464</td>\n",
       "      <td>72</td>\n",
       "      <td>0</td>\n",
       "      <td>0</td>\n",
       "    </tr>\n",
       "  </tbody>\n",
       "</table>\n",
       "<p>138047 rows × 57 columns</p>\n",
       "</div>"
      ],
      "text/plain": [
       "                                               Name  \\\n",
       "0                                       memtest.exe   \n",
       "1                                           ose.exe   \n",
       "2                                         setup.exe   \n",
       "3                                          DW20.EXE   \n",
       "4                                      dwtrig20.exe   \n",
       "...                                             ...   \n",
       "138042  VirusShare_8e292b418568d6e7b87f2a32aee7074b   \n",
       "138043  VirusShare_260d9e2258aed4c8a3bbd703ec895822   \n",
       "138044  VirusShare_8d088a51b7d225c9f5d11d239791ec3f   \n",
       "138045  VirusShare_4286dccf67ca220fe67635388229a9f3   \n",
       "138046  VirusShare_d7648eae45f09b3adb75127f43be6d11   \n",
       "\n",
       "                                     md5  Machine  SizeOfOptionalHeader  \\\n",
       "0       631ea355665f28d4707448e442fbf5b8      332                   224   \n",
       "1       9d10f99a6712e28f8acd5641e3a7ea6b      332                   224   \n",
       "2       4d92f518527353c0db88a70fddcfd390      332                   224   \n",
       "3       a41e524f8d45f0074fd07805ff0c9b12      332                   224   \n",
       "4       c87e561258f2f8650cef999bf643a731      332                   224   \n",
       "...                                  ...      ...                   ...   \n",
       "138042  8e292b418568d6e7b87f2a32aee7074b      332                   224   \n",
       "138043  260d9e2258aed4c8a3bbd703ec895822      332                   224   \n",
       "138044  8d088a51b7d225c9f5d11d239791ec3f      332                   224   \n",
       "138045  4286dccf67ca220fe67635388229a9f3      332                   224   \n",
       "138046  d7648eae45f09b3adb75127f43be6d11      332                   224   \n",
       "\n",
       "        Characteristics  MajorLinkerVersion  MinorLinkerVersion  SizeOfCode  \\\n",
       "0                   258                   9                   0      361984   \n",
       "1                  3330                   9                   0      130560   \n",
       "2                  3330                   9                   0      517120   \n",
       "3                   258                   9                   0      585728   \n",
       "4                   258                   9                   0      294912   \n",
       "...                 ...                 ...                 ...         ...   \n",
       "138042              258                  11                   0      205824   \n",
       "138043            33167                   2                  25       37888   \n",
       "138044              258                  10                   0      118272   \n",
       "138045            33166                   2                  25       49152   \n",
       "138046              258                  11                   0      111616   \n",
       "\n",
       "        SizeOfInitializedData  SizeOfUninitializedData  ...  ResourcesNb  \\\n",
       "0                      115712                        0  ...            4   \n",
       "1                       19968                        0  ...            2   \n",
       "2                      621568                        0  ...           11   \n",
       "3                      369152                        0  ...           10   \n",
       "4                      247296                        0  ...            2   \n",
       "...                       ...                      ...  ...          ...   \n",
       "138042                 223744                        0  ...            7   \n",
       "138043                 185344                        0  ...           26   \n",
       "138044                 380416                        0  ...           22   \n",
       "138045                  16896                        0  ...           10   \n",
       "138046                 468480                        0  ...            4   \n",
       "\n",
       "        ResourcesMeanEntropy  ResourcesMinEntropy  ResourcesMaxEntropy  \\\n",
       "0                   3.262823             2.568844             3.537939   \n",
       "1                   4.250461             3.420744             5.080177   \n",
       "2                   4.426324             2.846449             5.271813   \n",
       "3                   4.364291             2.669314             6.400720   \n",
       "4                   4.306100             3.421598             5.190603   \n",
       "...                      ...                  ...                  ...   \n",
       "138042              4.122736             1.370260             7.677091   \n",
       "138043              3.377663             2.031619             5.050074   \n",
       "138044              6.825406             2.617026             7.990487   \n",
       "138045              3.421627             2.060964             4.739744   \n",
       "138046              4.407252             1.980482             6.115374   \n",
       "\n",
       "        ResourcesMeanSize  ResourcesMinSize  ResourcesMaxSize  \\\n",
       "0             8797.000000               216             18032   \n",
       "1              837.000000               518              1156   \n",
       "2            31102.272727               104            270376   \n",
       "3             1457.000000                90              4264   \n",
       "4             1074.500000               849              1300   \n",
       "...                   ...               ...               ...   \n",
       "138042       14900.714286                16             81654   \n",
       "138043        6905.846154                44             67624   \n",
       "138044       14981.909091                48             22648   \n",
       "138045         601.600000                16              2216   \n",
       "138046       96625.000000                20            318464   \n",
       "\n",
       "        LoadConfigurationSize  VersionInformationSize  legitimate  \n",
       "0                           0                      16           1  \n",
       "1                          72                      18           1  \n",
       "2                          72                      18           1  \n",
       "3                          72                      18           1  \n",
       "4                          72                      18           1  \n",
       "...                       ...                     ...         ...  \n",
       "138042                     72                       0           0  \n",
       "138043                      0                      15           0  \n",
       "138044                     72                      14           0  \n",
       "138045                      0                       0           0  \n",
       "138046                     72                       0           0  \n",
       "\n",
       "[138047 rows x 57 columns]"
      ]
     },
     "execution_count": 4,
     "metadata": {},
     "output_type": "execute_result"
    }
   ],
   "source": [
    "data"
   ]
  },
  {
   "cell_type": "code",
   "execution_count": 5,
   "id": "ad7b9d88",
   "metadata": {},
   "outputs": [
    {
     "data": {
      "text/html": [
       "<div>\n",
       "<style scoped>\n",
       "    .dataframe tbody tr th:only-of-type {\n",
       "        vertical-align: middle;\n",
       "    }\n",
       "\n",
       "    .dataframe tbody tr th {\n",
       "        vertical-align: top;\n",
       "    }\n",
       "\n",
       "    .dataframe thead th {\n",
       "        text-align: right;\n",
       "    }\n",
       "</style>\n",
       "<table border=\"1\" class=\"dataframe\">\n",
       "  <thead>\n",
       "    <tr style=\"text-align: right;\">\n",
       "      <th></th>\n",
       "      <th>Machine</th>\n",
       "      <th>SizeOfOptionalHeader</th>\n",
       "      <th>Characteristics</th>\n",
       "      <th>MajorLinkerVersion</th>\n",
       "      <th>MinorLinkerVersion</th>\n",
       "      <th>SizeOfCode</th>\n",
       "      <th>SizeOfInitializedData</th>\n",
       "      <th>SizeOfUninitializedData</th>\n",
       "      <th>AddressOfEntryPoint</th>\n",
       "      <th>BaseOfCode</th>\n",
       "      <th>...</th>\n",
       "      <th>ResourcesNb</th>\n",
       "      <th>ResourcesMeanEntropy</th>\n",
       "      <th>ResourcesMinEntropy</th>\n",
       "      <th>ResourcesMaxEntropy</th>\n",
       "      <th>ResourcesMeanSize</th>\n",
       "      <th>ResourcesMinSize</th>\n",
       "      <th>ResourcesMaxSize</th>\n",
       "      <th>LoadConfigurationSize</th>\n",
       "      <th>VersionInformationSize</th>\n",
       "      <th>legitimate</th>\n",
       "    </tr>\n",
       "  </thead>\n",
       "  <tbody>\n",
       "    <tr>\n",
       "      <th>count</th>\n",
       "      <td>138047.000000</td>\n",
       "      <td>138047.000000</td>\n",
       "      <td>138047.000000</td>\n",
       "      <td>138047.000000</td>\n",
       "      <td>138047.000000</td>\n",
       "      <td>1.380470e+05</td>\n",
       "      <td>1.380470e+05</td>\n",
       "      <td>1.380470e+05</td>\n",
       "      <td>1.380470e+05</td>\n",
       "      <td>1.380470e+05</td>\n",
       "      <td>...</td>\n",
       "      <td>138047.000000</td>\n",
       "      <td>138047.000000</td>\n",
       "      <td>138047.000000</td>\n",
       "      <td>138047.000000</td>\n",
       "      <td>1.380470e+05</td>\n",
       "      <td>1.380470e+05</td>\n",
       "      <td>1.380470e+05</td>\n",
       "      <td>1.380470e+05</td>\n",
       "      <td>138047.000000</td>\n",
       "      <td>138047.000000</td>\n",
       "    </tr>\n",
       "    <tr>\n",
       "      <th>mean</th>\n",
       "      <td>4259.069274</td>\n",
       "      <td>225.845632</td>\n",
       "      <td>4444.145994</td>\n",
       "      <td>8.619774</td>\n",
       "      <td>3.819286</td>\n",
       "      <td>2.425956e+05</td>\n",
       "      <td>4.504867e+05</td>\n",
       "      <td>1.009525e+05</td>\n",
       "      <td>1.719561e+05</td>\n",
       "      <td>5.779845e+04</td>\n",
       "      <td>...</td>\n",
       "      <td>22.050700</td>\n",
       "      <td>4.000127</td>\n",
       "      <td>2.434541</td>\n",
       "      <td>5.521610</td>\n",
       "      <td>5.545093e+04</td>\n",
       "      <td>1.818082e+04</td>\n",
       "      <td>2.465903e+05</td>\n",
       "      <td>4.656750e+05</td>\n",
       "      <td>12.363115</td>\n",
       "      <td>0.299340</td>\n",
       "    </tr>\n",
       "    <tr>\n",
       "      <th>std</th>\n",
       "      <td>10880.347245</td>\n",
       "      <td>5.121399</td>\n",
       "      <td>8186.782524</td>\n",
       "      <td>4.088757</td>\n",
       "      <td>11.862675</td>\n",
       "      <td>5.754485e+06</td>\n",
       "      <td>2.101599e+07</td>\n",
       "      <td>1.635288e+07</td>\n",
       "      <td>3.430553e+06</td>\n",
       "      <td>5.527658e+06</td>\n",
       "      <td>...</td>\n",
       "      <td>136.494244</td>\n",
       "      <td>1.112981</td>\n",
       "      <td>0.815577</td>\n",
       "      <td>1.597403</td>\n",
       "      <td>7.799163e+06</td>\n",
       "      <td>6.502369e+06</td>\n",
       "      <td>2.124860e+07</td>\n",
       "      <td>2.608987e+07</td>\n",
       "      <td>6.798878</td>\n",
       "      <td>0.457971</td>\n",
       "    </tr>\n",
       "    <tr>\n",
       "      <th>min</th>\n",
       "      <td>332.000000</td>\n",
       "      <td>224.000000</td>\n",
       "      <td>2.000000</td>\n",
       "      <td>0.000000</td>\n",
       "      <td>0.000000</td>\n",
       "      <td>0.000000e+00</td>\n",
       "      <td>0.000000e+00</td>\n",
       "      <td>0.000000e+00</td>\n",
       "      <td>0.000000e+00</td>\n",
       "      <td>0.000000e+00</td>\n",
       "      <td>...</td>\n",
       "      <td>0.000000</td>\n",
       "      <td>0.000000</td>\n",
       "      <td>0.000000</td>\n",
       "      <td>0.000000</td>\n",
       "      <td>0.000000e+00</td>\n",
       "      <td>0.000000e+00</td>\n",
       "      <td>0.000000e+00</td>\n",
       "      <td>0.000000e+00</td>\n",
       "      <td>0.000000</td>\n",
       "      <td>0.000000</td>\n",
       "    </tr>\n",
       "    <tr>\n",
       "      <th>25%</th>\n",
       "      <td>332.000000</td>\n",
       "      <td>224.000000</td>\n",
       "      <td>258.000000</td>\n",
       "      <td>8.000000</td>\n",
       "      <td>0.000000</td>\n",
       "      <td>3.020800e+04</td>\n",
       "      <td>2.457600e+04</td>\n",
       "      <td>0.000000e+00</td>\n",
       "      <td>1.272100e+04</td>\n",
       "      <td>4.096000e+03</td>\n",
       "      <td>...</td>\n",
       "      <td>5.000000</td>\n",
       "      <td>3.458505</td>\n",
       "      <td>2.178748</td>\n",
       "      <td>4.828706</td>\n",
       "      <td>9.560000e+02</td>\n",
       "      <td>4.800000e+01</td>\n",
       "      <td>2.216000e+03</td>\n",
       "      <td>0.000000e+00</td>\n",
       "      <td>13.000000</td>\n",
       "      <td>0.000000</td>\n",
       "    </tr>\n",
       "    <tr>\n",
       "      <th>50%</th>\n",
       "      <td>332.000000</td>\n",
       "      <td>224.000000</td>\n",
       "      <td>258.000000</td>\n",
       "      <td>9.000000</td>\n",
       "      <td>0.000000</td>\n",
       "      <td>1.136640e+05</td>\n",
       "      <td>2.631680e+05</td>\n",
       "      <td>0.000000e+00</td>\n",
       "      <td>5.288300e+04</td>\n",
       "      <td>4.096000e+03</td>\n",
       "      <td>...</td>\n",
       "      <td>6.000000</td>\n",
       "      <td>3.729824</td>\n",
       "      <td>2.458492</td>\n",
       "      <td>5.317552</td>\n",
       "      <td>2.708154e+03</td>\n",
       "      <td>4.800000e+01</td>\n",
       "      <td>9.640000e+03</td>\n",
       "      <td>7.200000e+01</td>\n",
       "      <td>15.000000</td>\n",
       "      <td>0.000000</td>\n",
       "    </tr>\n",
       "    <tr>\n",
       "      <th>75%</th>\n",
       "      <td>332.000000</td>\n",
       "      <td>224.000000</td>\n",
       "      <td>8226.000000</td>\n",
       "      <td>10.000000</td>\n",
       "      <td>0.000000</td>\n",
       "      <td>1.203200e+05</td>\n",
       "      <td>3.850240e+05</td>\n",
       "      <td>0.000000e+00</td>\n",
       "      <td>6.157800e+04</td>\n",
       "      <td>4.096000e+03</td>\n",
       "      <td>...</td>\n",
       "      <td>13.000000</td>\n",
       "      <td>4.233051</td>\n",
       "      <td>2.696833</td>\n",
       "      <td>6.502239</td>\n",
       "      <td>6.558429e+03</td>\n",
       "      <td>1.320000e+02</td>\n",
       "      <td>2.378000e+04</td>\n",
       "      <td>7.200000e+01</td>\n",
       "      <td>16.000000</td>\n",
       "      <td>1.000000</td>\n",
       "    </tr>\n",
       "    <tr>\n",
       "      <th>max</th>\n",
       "      <td>34404.000000</td>\n",
       "      <td>352.000000</td>\n",
       "      <td>49551.000000</td>\n",
       "      <td>255.000000</td>\n",
       "      <td>255.000000</td>\n",
       "      <td>1.818587e+09</td>\n",
       "      <td>4.294966e+09</td>\n",
       "      <td>4.294941e+09</td>\n",
       "      <td>1.074484e+09</td>\n",
       "      <td>2.028711e+09</td>\n",
       "      <td>...</td>\n",
       "      <td>7694.000000</td>\n",
       "      <td>7.999723</td>\n",
       "      <td>7.999723</td>\n",
       "      <td>8.000000</td>\n",
       "      <td>2.415919e+09</td>\n",
       "      <td>2.415919e+09</td>\n",
       "      <td>4.294903e+09</td>\n",
       "      <td>4.294967e+09</td>\n",
       "      <td>26.000000</td>\n",
       "      <td>1.000000</td>\n",
       "    </tr>\n",
       "  </tbody>\n",
       "</table>\n",
       "<p>8 rows × 55 columns</p>\n",
       "</div>"
      ],
      "text/plain": [
       "             Machine  SizeOfOptionalHeader  Characteristics  \\\n",
       "count  138047.000000         138047.000000    138047.000000   \n",
       "mean     4259.069274            225.845632      4444.145994   \n",
       "std     10880.347245              5.121399      8186.782524   \n",
       "min       332.000000            224.000000         2.000000   \n",
       "25%       332.000000            224.000000       258.000000   \n",
       "50%       332.000000            224.000000       258.000000   \n",
       "75%       332.000000            224.000000      8226.000000   \n",
       "max     34404.000000            352.000000     49551.000000   \n",
       "\n",
       "       MajorLinkerVersion  MinorLinkerVersion    SizeOfCode  \\\n",
       "count       138047.000000       138047.000000  1.380470e+05   \n",
       "mean             8.619774            3.819286  2.425956e+05   \n",
       "std              4.088757           11.862675  5.754485e+06   \n",
       "min              0.000000            0.000000  0.000000e+00   \n",
       "25%              8.000000            0.000000  3.020800e+04   \n",
       "50%              9.000000            0.000000  1.136640e+05   \n",
       "75%             10.000000            0.000000  1.203200e+05   \n",
       "max            255.000000          255.000000  1.818587e+09   \n",
       "\n",
       "       SizeOfInitializedData  SizeOfUninitializedData  AddressOfEntryPoint  \\\n",
       "count           1.380470e+05             1.380470e+05         1.380470e+05   \n",
       "mean            4.504867e+05             1.009525e+05         1.719561e+05   \n",
       "std             2.101599e+07             1.635288e+07         3.430553e+06   \n",
       "min             0.000000e+00             0.000000e+00         0.000000e+00   \n",
       "25%             2.457600e+04             0.000000e+00         1.272100e+04   \n",
       "50%             2.631680e+05             0.000000e+00         5.288300e+04   \n",
       "75%             3.850240e+05             0.000000e+00         6.157800e+04   \n",
       "max             4.294966e+09             4.294941e+09         1.074484e+09   \n",
       "\n",
       "         BaseOfCode  ...    ResourcesNb  ResourcesMeanEntropy  \\\n",
       "count  1.380470e+05  ...  138047.000000         138047.000000   \n",
       "mean   5.779845e+04  ...      22.050700              4.000127   \n",
       "std    5.527658e+06  ...     136.494244              1.112981   \n",
       "min    0.000000e+00  ...       0.000000              0.000000   \n",
       "25%    4.096000e+03  ...       5.000000              3.458505   \n",
       "50%    4.096000e+03  ...       6.000000              3.729824   \n",
       "75%    4.096000e+03  ...      13.000000              4.233051   \n",
       "max    2.028711e+09  ...    7694.000000              7.999723   \n",
       "\n",
       "       ResourcesMinEntropy  ResourcesMaxEntropy  ResourcesMeanSize  \\\n",
       "count        138047.000000        138047.000000       1.380470e+05   \n",
       "mean              2.434541             5.521610       5.545093e+04   \n",
       "std               0.815577             1.597403       7.799163e+06   \n",
       "min               0.000000             0.000000       0.000000e+00   \n",
       "25%               2.178748             4.828706       9.560000e+02   \n",
       "50%               2.458492             5.317552       2.708154e+03   \n",
       "75%               2.696833             6.502239       6.558429e+03   \n",
       "max               7.999723             8.000000       2.415919e+09   \n",
       "\n",
       "       ResourcesMinSize  ResourcesMaxSize  LoadConfigurationSize  \\\n",
       "count      1.380470e+05      1.380470e+05           1.380470e+05   \n",
       "mean       1.818082e+04      2.465903e+05           4.656750e+05   \n",
       "std        6.502369e+06      2.124860e+07           2.608987e+07   \n",
       "min        0.000000e+00      0.000000e+00           0.000000e+00   \n",
       "25%        4.800000e+01      2.216000e+03           0.000000e+00   \n",
       "50%        4.800000e+01      9.640000e+03           7.200000e+01   \n",
       "75%        1.320000e+02      2.378000e+04           7.200000e+01   \n",
       "max        2.415919e+09      4.294903e+09           4.294967e+09   \n",
       "\n",
       "       VersionInformationSize     legitimate  \n",
       "count           138047.000000  138047.000000  \n",
       "mean                12.363115       0.299340  \n",
       "std                  6.798878       0.457971  \n",
       "min                  0.000000       0.000000  \n",
       "25%                 13.000000       0.000000  \n",
       "50%                 15.000000       0.000000  \n",
       "75%                 16.000000       1.000000  \n",
       "max                 26.000000       1.000000  \n",
       "\n",
       "[8 rows x 55 columns]"
      ]
     },
     "execution_count": 5,
     "metadata": {},
     "output_type": "execute_result"
    }
   ],
   "source": [
    "data.describe()"
   ]
  },
  {
   "cell_type": "markdown",
   "id": "52cb1408",
   "metadata": {},
   "source": [
    "#### Checking the size of dataset"
   ]
  },
  {
   "cell_type": "code",
   "execution_count": 6,
   "id": "eed96b5b",
   "metadata": {},
   "outputs": [
    {
     "name": "stdout",
     "output_type": "stream",
     "text": [
      "Size of DataFrame: 0.0798260634765029 GB\n"
     ]
    }
   ],
   "source": [
    "from sys import getsizeof\n",
    "initial_size = getsizeof(data)/(1024.0**3)\n",
    "print(\"Size of DataFrame: {} GB\".format(initial_size))"
   ]
  },
  {
   "cell_type": "markdown",
   "id": "beef6153",
   "metadata": {},
   "source": [
    "#### Distribution of Labelled Data"
   ]
  },
  {
   "cell_type": "code",
   "execution_count": 7,
   "id": "c5ca3fbc",
   "metadata": {},
   "outputs": [
    {
     "data": {
      "text/plain": [
       "0    96724\n",
       "1    41323\n",
       "Name: legitimate, dtype: int64"
      ]
     },
     "execution_count": 7,
     "metadata": {},
     "output_type": "execute_result"
    }
   ],
   "source": [
    "data.legitimate.value_counts() # 0 means legitimate, 1 means ransomware"
   ]
  },
  {
   "cell_type": "markdown",
   "id": "d1b5cb97",
   "metadata": {},
   "source": [
    "#### Converting labelled data in categories datatype"
   ]
  },
  {
   "cell_type": "code",
   "execution_count": 8,
   "id": "229005e0",
   "metadata": {},
   "outputs": [
    {
     "data": {
      "text/plain": [
       "0         1\n",
       "1         1\n",
       "2         1\n",
       "3         1\n",
       "4         1\n",
       "         ..\n",
       "138042    0\n",
       "138043    0\n",
       "138044    0\n",
       "138045    0\n",
       "138046    0\n",
       "Name: legitimate, Length: 138047, dtype: category\n",
       "Categories (2, int64): [0, 1]"
      ]
     },
     "execution_count": 8,
     "metadata": {},
     "output_type": "execute_result"
    }
   ],
   "source": [
    "data.legitimate = data.legitimate.astype('category')\n",
    "data.legitimate"
   ]
  },
  {
   "cell_type": "code",
   "execution_count": 9,
   "id": "5cbd53a1",
   "metadata": {},
   "outputs": [
    {
     "data": {
      "image/png": "[encoded data removed]",
      "text/plain": [
       "<Figure size 432x288 with 1 Axes>"
      ]
     },
     "metadata": {},
     "output_type": "display_data"
    }
   ],
   "source": [
    "plt.pie(data.legitimate.value_counts().values.tolist(), labels=['Safe','Ransomware'], autopct='%.2f%%')\n",
    "plt.legend()\n",
    "plt.show()"
   ]
  },
  {
   "cell_type": "markdown",
   "id": "9c721585",
   "metadata": {},
   "source": [
    "#### Unique Names"
   ]
  },
  {
   "cell_type": "code",
   "execution_count": 10,
   "id": "a143685c",
   "metadata": {},
   "outputs": [
    {
     "data": {
      "text/plain": [
       "138047"
      ]
     },
     "execution_count": 10,
     "metadata": {},
     "output_type": "execute_result"
    }
   ],
   "source": [
    "data.md5.nunique()"
   ]
  },
  {
   "cell_type": "code",
   "execution_count": 11,
   "id": "9a3a89eb",
   "metadata": {},
   "outputs": [
    {
     "data": {
      "text/plain": [
       "138047"
      ]
     },
     "execution_count": 11,
     "metadata": {},
     "output_type": "execute_result"
    }
   ],
   "source": [
    "data.md5.shape[0]"
   ]
  },
  {
   "cell_type": "code",
   "execution_count": 12,
   "id": "28417b1a",
   "metadata": {},
   "outputs": [],
   "source": [
    "# There are no same files as no 2 files can have same md5 without the same content"
   ]
  },
  {
   "cell_type": "markdown",
   "id": "f18af689",
   "metadata": {},
   "source": [
    "#### Column Analysis"
   ]
  },
  {
   "cell_type": "code",
   "execution_count": 13,
   "id": "1a734ee6",
   "metadata": {},
   "outputs": [
    {
     "data": {
      "text/plain": [
       "57"
      ]
     },
     "execution_count": 13,
     "metadata": {},
     "output_type": "execute_result"
    }
   ],
   "source": [
    "data.shape[1]"
   ]
  },
  {
   "cell_type": "code",
   "execution_count": 14,
   "id": "c182f5ef",
   "metadata": {},
   "outputs": [
    {
     "data": {
      "text/plain": [
       "Index(['Name', 'md5', 'Machine', 'SizeOfOptionalHeader', 'Characteristics',\n",
       "       'MajorLinkerVersion', 'MinorLinkerVersion', 'SizeOfCode',\n",
       "       'SizeOfInitializedData', 'SizeOfUninitializedData',\n",
       "       'AddressOfEntryPoint', 'BaseOfCode', 'BaseOfData', 'ImageBase',\n",
       "       'SectionAlignment', 'FileAlignment', 'MajorOperatingSystemVersion',\n",
       "       'MinorOperatingSystemVersion', 'MajorImageVersion', 'MinorImageVersion',\n",
       "       'MajorSubsystemVersion', 'MinorSubsystemVersion', 'SizeOfImage',\n",
       "       'SizeOfHeaders', 'CheckSum', 'Subsystem', 'DllCharacteristics',\n",
       "       'SizeOfStackReserve', 'SizeOfStackCommit', 'SizeOfHeapReserve',\n",
       "       'SizeOfHeapCommit', 'LoaderFlags', 'NumberOfRvaAndSizes', 'SectionsNb',\n",
       "       'SectionsMeanEntropy', 'SectionsMinEntropy', 'SectionsMaxEntropy',\n",
       "       'SectionsMeanRawsize', 'SectionsMinRawsize', 'SectionMaxRawsize',\n",
       "       'SectionsMeanVirtualsize', 'SectionsMinVirtualsize',\n",
       "       'SectionMaxVirtualsize', 'ImportsNbDLL', 'ImportsNb',\n",
       "       'ImportsNbOrdinal', 'ExportNb', 'ResourcesNb', 'ResourcesMeanEntropy',\n",
       "       'ResourcesMinEntropy', 'ResourcesMaxEntropy', 'ResourcesMeanSize',\n",
       "       'ResourcesMinSize', 'ResourcesMaxSize', 'LoadConfigurationSize',\n",
       "       'VersionInformationSize', 'legitimate'],\n",
       "      dtype='object')"
      ]
     },
     "execution_count": 14,
     "metadata": {},
     "output_type": "execute_result"
    }
   ],
   "source": [
    "data.columns"
   ]
  },
  {
   "cell_type": "code",
   "execution_count": 15,
   "id": "c082674b",
   "metadata": {},
   "outputs": [
    {
     "data": {
      "text/plain": [
       "Name                             object\n",
       "md5                              object\n",
       "Machine                           int64\n",
       "SizeOfOptionalHeader              int64\n",
       "Characteristics                   int64\n",
       "MajorLinkerVersion                int64\n",
       "MinorLinkerVersion                int64\n",
       "SizeOfCode                        int64\n",
       "SizeOfInitializedData             int64\n",
       "SizeOfUninitializedData           int64\n",
       "AddressOfEntryPoint               int64\n",
       "BaseOfCode                        int64\n",
       "BaseOfData                        int64\n",
       "ImageBase                       float64\n",
       "SectionAlignment                  int64\n",
       "FileAlignment                     int64\n",
       "MajorOperatingSystemVersion       int64\n",
       "MinorOperatingSystemVersion       int64\n",
       "MajorImageVersion                 int64\n",
       "MinorImageVersion                 int64\n",
       "MajorSubsystemVersion             int64\n",
       "MinorSubsystemVersion             int64\n",
       "SizeOfImage                       int64\n",
       "SizeOfHeaders                     int64\n",
       "CheckSum                          int64\n",
       "Subsystem                         int64\n",
       "DllCharacteristics                int64\n",
       "SizeOfStackReserve                int64\n",
       "SizeOfStackCommit                 int64\n",
       "SizeOfHeapReserve                 int64\n",
       "SizeOfHeapCommit                  int64\n",
       "LoaderFlags                       int64\n",
       "NumberOfRvaAndSizes               int64\n",
       "SectionsNb                        int64\n",
       "SectionsMeanEntropy             float64\n",
       "SectionsMinEntropy              float64\n",
       "SectionsMaxEntropy              float64\n",
       "SectionsMeanRawsize             float64\n",
       "SectionsMinRawsize                int64\n",
       "SectionMaxRawsize                 int64\n",
       "SectionsMeanVirtualsize         float64\n",
       "SectionsMinVirtualsize            int64\n",
       "SectionMaxVirtualsize             int64\n",
       "ImportsNbDLL                      int64\n",
       "ImportsNb                         int64\n",
       "ImportsNbOrdinal                  int64\n",
       "ExportNb                          int64\n",
       "ResourcesNb                       int64\n",
       "ResourcesMeanEntropy            float64\n",
       "ResourcesMinEntropy             float64\n",
       "ResourcesMaxEntropy             float64\n",
       "ResourcesMeanSize               float64\n",
       "ResourcesMinSize                  int64\n",
       "ResourcesMaxSize                  int64\n",
       "LoadConfigurationSize             int64\n",
       "VersionInformationSize            int64\n",
       "legitimate                     category\n",
       "dtype: object"
      ]
     },
     "execution_count": 15,
     "metadata": {},
     "output_type": "execute_result"
    }
   ],
   "source": [
    "data.dtypes"
   ]
  },
  {
   "cell_type": "markdown",
   "id": "2e111acf",
   "metadata": {},
   "source": [
    "### Exploratary data Analysis - Before Feature Selection"
   ]
  },
  {
   "cell_type": "code",
   "execution_count": 16,
   "id": "fca4bbd6",
   "metadata": {},
   "outputs": [
    {
     "data": {
      "text/plain": [
       "<Axes: >"
      ]
     },
     "execution_count": 16,
     "metadata": {},
     "output_type": "execute_result"
    },
    {
     "data": {
      "image/png": "[encoded data removed]",
      "text/plain": [
       "<Figure size 432x288 with 2 Axes>"
      ]
     },
     "metadata": {
      "needs_background": "light"
     },
     "output_type": "display_data"
    }
   ],
   "source": [
    "sns.heatmap(data.corr())"
   ]
  },
  {
   "cell_type": "markdown",
   "id": "86969a34",
   "metadata": {},
   "source": [
    "## Data Preprocessing"
   ]
  },
  {
   "cell_type": "markdown",
   "id": "8b6591be",
   "metadata": {},
   "source": [
    "#### Checking for null values in the dataset"
   ]
  },
  {
   "cell_type": "code",
   "execution_count": 17,
   "id": "3c8030d8",
   "metadata": {},
   "outputs": [
    {
     "data": {
      "text/plain": [
       "Name                           0\n",
       "md5                            0\n",
       "Machine                        0\n",
       "SizeOfOptionalHeader           0\n",
       "Characteristics                0\n",
       "MajorLinkerVersion             0\n",
       "MinorLinkerVersion             0\n",
       "SizeOfCode                     0\n",
       "SizeOfInitializedData          0\n",
       "SizeOfUninitializedData        0\n",
       "AddressOfEntryPoint            0\n",
       "BaseOfCode                     0\n",
       "BaseOfData                     0\n",
       "ImageBase                      0\n",
       "SectionAlignment               0\n",
       "FileAlignment                  0\n",
       "MajorOperatingSystemVersion    0\n",
       "MinorOperatingSystemVersion    0\n",
       "MajorImageVersion              0\n",
       "MinorImageVersion              0\n",
       "MajorSubsystemVersion          0\n",
       "MinorSubsystemVersion          0\n",
       "SizeOfImage                    0\n",
       "SizeOfHeaders                  0\n",
       "CheckSum                       0\n",
       "Subsystem                      0\n",
       "DllCharacteristics             0\n",
       "SizeOfStackReserve             0\n",
       "SizeOfStackCommit              0\n",
       "SizeOfHeapReserve              0\n",
       "SizeOfHeapCommit               0\n",
       "LoaderFlags                    0\n",
       "NumberOfRvaAndSizes            0\n",
       "SectionsNb                     0\n",
       "SectionsMeanEntropy            0\n",
       "SectionsMinEntropy             0\n",
       "SectionsMaxEntropy             0\n",
       "SectionsMeanRawsize            0\n",
       "SectionsMinRawsize             0\n",
       "SectionMaxRawsize              0\n",
       "SectionsMeanVirtualsize        0\n",
       "SectionsMinVirtualsize         0\n",
       "SectionMaxVirtualsize          0\n",
       "ImportsNbDLL                   0\n",
       "ImportsNb                      0\n",
       "ImportsNbOrdinal               0\n",
       "ExportNb                       0\n",
       "ResourcesNb                    0\n",
       "ResourcesMeanEntropy           0\n",
       "ResourcesMinEntropy            0\n",
       "ResourcesMaxEntropy            0\n",
       "ResourcesMeanSize              0\n",
       "ResourcesMinSize               0\n",
       "ResourcesMaxSize               0\n",
       "LoadConfigurationSize          0\n",
       "VersionInformationSize         0\n",
       "legitimate                     0\n",
       "dtype: int64"
      ]
     },
     "execution_count": 17,
     "metadata": {},
     "output_type": "execute_result"
    }
   ],
   "source": [
    "data.isnull().sum()"
   ]
  },
  {
   "cell_type": "markdown",
   "id": "3be63594",
   "metadata": {},
   "source": [
    "### Feature Selection"
   ]
  },
  {
   "cell_type": "markdown",
   "id": "3eb3c1b5",
   "metadata": {},
   "source": [
    "#### Variance Inflation Factor"
   ]
  },
  {
   "cell_type": "code",
   "execution_count": 18,
   "id": "ef66d951",
   "metadata": {},
   "outputs": [
    {
     "name": "stdout",
     "output_type": "stream",
     "text": [
      "                        feature           VIF\n",
      "0                       Machine      1.186140\n",
      "1          SizeOfOptionalHeader      0.021587\n",
      "2               Characteristics      1.429080\n",
      "3            MajorLinkerVersion      1.189683\n",
      "4            MinorLinkerVersion      1.501589\n",
      "5                    SizeOfCode      5.133816\n",
      "6         SizeOfInitializedData      1.566664\n",
      "7       SizeOfUninitializedData      1.000313\n",
      "8           AddressOfEntryPoint      1.071059\n",
      "9                    BaseOfCode      4.265300\n",
      "10                   BaseOfData      1.920017\n",
      "11                    ImageBase      1.001121\n",
      "12             SectionAlignment      2.060324\n",
      "13                FileAlignment      1.078989\n",
      "14  MajorOperatingSystemVersion      1.000055\n",
      "15  MinorOperatingSystemVersion      4.159906\n",
      "16            MajorImageVersion    200.352526\n",
      "17            MinorImageVersion    184.970889\n",
      "18        MajorSubsystemVersion      0.641283\n",
      "19        MinorSubsystemVersion  17361.133633\n",
      "20                  SizeOfImage      2.861136\n",
      "21                SizeOfHeaders      1.050779\n",
      "22                     CheckSum      1.042343\n",
      "23                    Subsystem      0.719385\n",
      "24           DllCharacteristics      1.609956\n",
      "25           SizeOfStackReserve      1.308989\n",
      "26            SizeOfStackCommit      1.025063\n",
      "27            SizeOfHeapReserve      0.622286\n",
      "28             SizeOfHeapCommit    140.512404\n",
      "29                  LoaderFlags    143.653470\n",
      "30          NumberOfRvaAndSizes      4.651298\n",
      "31                   SectionsNb      1.154725\n",
      "32          SectionsMeanEntropy      1.101903\n",
      "33           SectionsMinEntropy      1.195850\n",
      "34           SectionsMaxEntropy      0.704123\n",
      "35          SectionsMeanRawsize     30.304600\n",
      "36           SectionsMinRawsize    618.997326\n",
      "37            SectionMaxRawsize     26.678139\n",
      "38      SectionsMeanVirtualsize    138.573463\n",
      "39       SectionsMinVirtualsize    622.104193\n",
      "40        SectionMaxVirtualsize    146.144387\n",
      "41                 ImportsNbDLL      1.413104\n",
      "42                    ImportsNb      1.194802\n",
      "43             ImportsNbOrdinal      1.294007\n",
      "44                     ExportNb      1.056135\n",
      "45                  ResourcesNb      1.243809\n",
      "46         ResourcesMeanEntropy      0.911495\n",
      "47          ResourcesMinEntropy      0.913429\n",
      "48          ResourcesMaxEntropy      1.182270\n",
      "49            ResourcesMeanSize     13.039526\n",
      "50             ResourcesMinSize      7.135897\n",
      "51             ResourcesMaxSize      4.387338\n",
      "52        LoadConfigurationSize      1.001271\n",
      "53       VersionInformationSize      1.260515\n"
     ]
    }
   ],
   "source": [
    "from statsmodels.stats.outliers_influence import variance_inflation_factor\n",
    "\n",
    "\n",
    "cols_vif = data.columns.tolist()\n",
    "cols_vif.remove('legitimate')\n",
    "cols_vif.remove('md5')\n",
    "cols_vif.remove('Name')\n",
    "cols_vif\n",
    "\n",
    "\n",
    "# VIF dataframe\n",
    "vif_data = pd.DataFrame()\n",
    "vif_data[\"feature\"] = cols_vif\n",
    "  \n",
    "# calculating VIF for each feature\n",
    "vif_data[\"VIF\"] = [variance_inflation_factor(data[cols_vif].values, i)\n",
    "                          for i in range(len(cols_vif))]\n",
    "  \n",
    "print(vif_data)"
   ]
  },
  {
   "cell_type": "markdown",
   "id": "924cbc18",
   "metadata": {},
   "source": [
    "#### Removing highly correlated features"
   ]
  },
  {
   "cell_type": "code",
   "execution_count": 19,
   "id": "c92bfb3e",
   "metadata": {},
   "outputs": [],
   "source": [
    "data.drop(['MinorImageVersion','MinorSubsystemVersion','SizeOfHeapCommit','SectionsMinRawsize','SectionsMinVirtualsize','SectionMaxVirtualsize' ],axis=1, inplace=True)"
   ]
  },
  {
   "cell_type": "markdown",
   "id": "b4cf38f5",
   "metadata": {},
   "source": [
    "### Exploratary data Analysis - After Feature Selection"
   ]
  },
  {
   "cell_type": "code",
   "execution_count": 20,
   "id": "2295d80f",
   "metadata": {},
   "outputs": [
    {
     "data": {
      "text/plain": [
       "<Axes: >"
      ]
     },
     "execution_count": 20,
     "metadata": {},
     "output_type": "execute_result"
    },
    {
     "data": {
      "image/png": "[encoded data removed]",
      "text/plain": [
       "<Figure size 432x288 with 2 Axes>"
      ]
     },
     "metadata": {
      "needs_background": "light"
     },
     "output_type": "display_data"
    }
   ],
   "source": [
    "sns.heatmap(data.corr())"
   ]
  },
  {
   "cell_type": "markdown",
   "id": "b11623bb",
   "metadata": {},
   "source": [
    "### Train Test Split of the dataset"
   ]
  },
  {
   "cell_type": "code",
   "execution_count": 21,
   "id": "84f1b4e9",
   "metadata": {},
   "outputs": [],
   "source": [
    "X = data.drop(['Name', 'md5', 'legitimate'], axis=1)\n",
    "y = data['legitimate']"
   ]
  },
  {
   "cell_type": "code",
   "execution_count": 22,
   "id": "331c9bdd",
   "metadata": {},
   "outputs": [],
   "source": [
    "X_train, X_test, y_train, y_test = train_test_split(X, y, test_size=0.33, random_state=42)"
   ]
  },
  {
   "cell_type": "code",
   "execution_count": 23,
   "id": "36c86689",
   "metadata": {},
   "outputs": [
    {
     "name": "stdout",
     "output_type": "stream",
     "text": [
      "138047\n",
      "Training labels shape: (92491,)\n",
      "Test labels shape: (45556,)\n",
      "Training features shape: (92491, 48)\n",
      "Test features shape: (45556, 48)\n"
     ]
    }
   ],
   "source": [
    "print(X_test.shape[0] + X_train.shape[0])\n",
    "print('Training labels shape:', y_train.shape)\n",
    "print('Test labels shape:', y_test.shape)\n",
    "print('Training features shape:', X_train.shape)\n",
    "print('Test features shape:', X_test.shape)"
   ]
  },
  {
   "cell_type": "markdown",
   "id": "b07f9cb4",
   "metadata": {},
   "source": [
    "## Applying Machine Learning Model "
   ]
  },
  {
   "cell_type": "markdown",
   "id": "208fbe48",
   "metadata": {},
   "source": [
    "### Bernoulli Naive Bayes ML Model"
   ]
  },
  {
   "cell_type": "code",
   "execution_count": 24,
   "id": "77ec5f57",
   "metadata": {},
   "outputs": [],
   "source": [
    "from sklearn.naive_bayes import BernoulliNB"
   ]
  },
  {
   "cell_type": "code",
   "execution_count": 25,
   "id": "587e0ced",
   "metadata": {},
   "outputs": [],
   "source": [
    "bnb = BernoulliNB(alpha=1.0, binarize=0.0)"
   ]
  },
  {
   "cell_type": "code",
   "execution_count": 26,
   "id": "056e6b5d",
   "metadata": {},
   "outputs": [
    {
     "data": {
      "text/html": [
       "<style>#sk-container-id-1 {color: black;background-color: white;}#sk-container-id-1 pre{padding: 0;}#sk-container-id-1 div.sk-toggleable {background-color: white;}#sk-container-id-1 label.sk-toggleable__label {cursor: pointer;display: block;width: 100%;margin-bottom: 0;padding: 0.3em;box-sizing: border-box;text-align: center;}#sk-container-id-1 label.sk-toggleable__label-arrow:before {content: \"▸\";float: left;margin-right: 0.25em;color: #696969;}#sk-container-id-1 label.sk-toggleable__label-arrow:hover:before {color: black;}#sk-container-id-1 div.sk-estimator:hover label.sk-toggleable__label-arrow:before {color: black;}#sk-container-id-1 div.sk-toggleable__content {max-height: 0;max-width: 0;overflow: hidden;text-align: left;background-color: #f0f8ff;}#sk-container-id-1 div.sk-toggleable__content pre {margin: 0.2em;color: black;border-radius: 0.25em;background-color: #f0f8ff;}#sk-container-id-1 input.sk-toggleable__control:checked~div.sk-toggleable__content {max-height: 200px;max-width: 100%;overflow: auto;}#sk-container-id-1 input.sk-toggleable__control:checked~label.sk-toggleable__label-arrow:before {content: \"▾\";}#sk-container-id-1 div.sk-estimator input.sk-toggleable__control:checked~label.sk-toggleable__label {background-color: #d4ebff;}#sk-container-id-1 div.sk-label input.sk-toggleable__control:checked~label.sk-toggleable__label {background-color: #d4ebff;}#sk-container-id-1 input.sk-hidden--visually {border: 0;clip: rect(1px 1px 1px 1px);clip: rect(1px, 1px, 1px, 1px);height: 1px;margin: -1px;overflow: hidden;padding: 0;position: absolute;width: 1px;}#sk-container-id-1 div.sk-estimator {font-family: monospace;background-color: #f0f8ff;border: 1px dotted black;border-radius: 0.25em;box-sizing: border-box;margin-bottom: 0.5em;}#sk-container-id-1 div.sk-estimator:hover {background-color: #d4ebff;}#sk-container-id-1 div.sk-parallel-item::after {content: \"\";width: 100%;border-bottom: 1px solid gray;flex-grow: 1;}#sk-container-id-1 div.sk-label:hover label.sk-toggleable__label {background-color: #d4ebff;}#sk-container-id-1 div.sk-serial::before {content: \"\";position: absolute;border-left: 1px solid gray;box-sizing: border-box;top: 0;bottom: 0;left: 50%;z-index: 0;}#sk-container-id-1 div.sk-serial {display: flex;flex-direction: column;align-items: center;background-color: white;padding-right: 0.2em;padding-left: 0.2em;position: relative;}#sk-container-id-1 div.sk-item {position: relative;z-index: 1;}#sk-container-id-1 div.sk-parallel {display: flex;align-items: stretch;justify-content: center;background-color: white;position: relative;}#sk-container-id-1 div.sk-item::before, #sk-container-id-1 div.sk-parallel-item::before {content: \"\";position: absolute;border-left: 1px solid gray;box-sizing: border-box;top: 0;bottom: 0;left: 50%;z-index: -1;}#sk-container-id-1 div.sk-parallel-item {display: flex;flex-direction: column;z-index: 1;position: relative;background-color: white;}#sk-container-id-1 div.sk-parallel-item:first-child::after {align-self: flex-end;width: 50%;}#sk-container-id-1 div.sk-parallel-item:last-child::after {align-self: flex-start;width: 50%;}#sk-container-id-1 div.sk-parallel-item:only-child::after {width: 0;}#sk-container-id-1 div.sk-dashed-wrapped {border: 1px dashed gray;margin: 0 0.4em 0.5em 0.4em;box-sizing: border-box;padding-bottom: 0.4em;background-color: white;}#sk-container-id-1 div.sk-label label {font-family: monospace;font-weight: bold;display: inline-block;line-height: 1.2em;}#sk-container-id-1 div.sk-label-container {text-align: center;}#sk-container-id-1 div.sk-container {/* jupyter's `normalize.less` sets `[hidden] { display: none; }` but bootstrap.min.css set `[hidden] { display: none !important; }` so we also need the `!important` here to be able to override the default hidden behavior on the sphinx rendered scikit-learn.org. See: https://github.com/scikit-learn/scikit-learn/issues/21755 */display: inline-block !important;position: relative;}#sk-container-id-1 div.sk-text-repr-fallback {display: none;}</style><div id=\"sk-container-id-1\" class=\"sk-top-container\"><div class=\"sk-text-repr-fallback\"><pre>BernoulliNB()</pre><b>In a Jupyter environment, please rerun this cell to show the HTML representation or trust the notebook. <br />On GitHub, the HTML representation is unable to render, please try loading this page with nbviewer.org.</b></div><div class=\"sk-container\" hidden><div class=\"sk-item\"><div class=\"sk-estimator sk-toggleable\"><input class=\"sk-toggleable__control sk-hidden--visually\" id=\"sk-estimator-id-1\" type=\"checkbox\" checked><label for=\"sk-estimator-id-1\" class=\"sk-toggleable__label sk-toggleable__label-arrow\">BernoulliNB</label><div class=\"sk-toggleable__content\"><pre>BernoulliNB()</pre></div></div></div></div></div>"
      ],
      "text/plain": [
       "BernoulliNB()"
      ]
     },
     "execution_count": 26,
     "metadata": {},
     "output_type": "execute_result"
    }
   ],
   "source": [
    "# Train the model on training data\n",
    "bnb.fit(X_train,y_train)"
   ]
  },
  {
   "cell_type": "code",
   "execution_count": 27,
   "id": "9009a0b3",
   "metadata": {},
   "outputs": [],
   "source": [
    "# Make predictions on test data\n",
    "pred = bnb.predict(X_test)"
   ]
  },
  {
   "cell_type": "markdown",
   "id": "29efc101",
   "metadata": {},
   "source": [
    "### Predicting the output on the given dataset by applying the classifier"
   ]
  },
  {
   "cell_type": "code",
   "execution_count": 28,
   "id": "e30c306f",
   "metadata": {},
   "outputs": [
    {
     "name": "stdout",
     "output_type": "stream",
     "text": [
      "[1]\n"
     ]
    }
   ],
   "source": [
    "sample_entry = [[332,224,258,9,0,361984,115712,0,6135,4096,372736,4194304,4096,512,0,0,0,1,1036288,1024,485887,16,1024,1048576,4096,1048576,0,16,8,5.766806554,3.607429576,7.221050729,59712,325120,126875.875,0,0,0,0,4,3.262822711,2.568843824,3.537939364,8797,216,18032,0,16]]\n",
    "prediction = bnb.predict(sample_entry)\n",
    "print(prediction)"
   ]
  },
  {
   "cell_type": "code",
   "execution_count": 29,
   "id": "0c3bf45b",
   "metadata": {},
   "outputs": [
    {
     "name": "stdout",
     "output_type": "stream",
     "text": [
      "[0]\n"
     ]
    }
   ],
   "source": [
    "sample_entry = [[332,224,258,11,0,111616,468480,0,22731,4096,118784,4194304,4096,512,5,1,0,5,593920,1024,2018448048,2,33088,1048576,4096,1048576,0,16,5,5.246000584,3.907010741,6.562745466,114278.4,387072,115790.8,4,88,1,0,4,4.40725215,1.980482024,6.11537436,96625,20,318464,72,0]]\n",
    "prediction = bnb.predict(sample_entry)\n",
    "print(prediction)"
   ]
  },
  {
   "cell_type": "markdown",
   "id": "efa8ed6b",
   "metadata": {},
   "source": [
    "## Evaluation Metrics"
   ]
  },
  {
   "cell_type": "markdown",
   "id": "261af405",
   "metadata": {},
   "source": [
    "### Accuracy"
   ]
  },
  {
   "cell_type": "code",
   "execution_count": 30,
   "id": "28566caa",
   "metadata": {},
   "outputs": [
    {
     "name": "stdout",
     "output_type": "stream",
     "text": [
      "0.9385591360084292\n"
     ]
    }
   ],
   "source": [
    "from sklearn.metrics import accuracy_score\n",
    "print(accuracy_score(y_test, pred))"
   ]
  },
  {
   "cell_type": "markdown",
   "id": "3a6dec02",
   "metadata": {},
   "source": [
    "### Confusion Matrix"
   ]
  },
  {
   "cell_type": "code",
   "execution_count": 31,
   "id": "e845d02e",
   "metadata": {},
   "outputs": [
    {
     "name": "stdout",
     "output_type": "stream",
     "text": [
      "Confusion Matrix:\n",
      "[[31577   266]\n",
      " [ 2533 11180]]\n"
     ]
    }
   ],
   "source": [
    "from sklearn.metrics import confusion_matrix\n",
    "print('Confusion Matrix:')\n",
    "print(confusion_matrix(y_test, pred))"
   ]
  },
  {
   "cell_type": "code",
   "execution_count": 32,
   "id": "5036d7f4",
   "metadata": {},
   "outputs": [
    {
     "data": {
      "image/png": "[encoded data removed]",
      "text/plain": [
       "<Figure size 432x288 with 2 Axes>"
      ]
     },
     "metadata": {
      "needs_background": "light"
     },
     "output_type": "display_data"
    }
   ],
   "source": [
    "cm=confusion_matrix(y_test,pred)\n",
    "classes = ['Safe', 'Risky/Ransomware']\n",
    "figure, ax = plot_confusion_matrix(conf_mat = cm, class_names = classes, colorbar = True)\n",
    "plt.show()"
   ]
  },
  {
   "cell_type": "markdown",
   "id": "33a8ba9c",
   "metadata": {},
   "source": [
    "### Precison, Recall, F1 Score"
   ]
  },
  {
   "cell_type": "code",
   "execution_count": 33,
   "id": "b474339d",
   "metadata": {},
   "outputs": [
    {
     "name": "stdout",
     "output_type": "stream",
     "text": [
      "Precision: 0.9767604403284991\n",
      "Recall: 0.8152847662801721\n",
      "F1 score:  0.8887475654835248\n"
     ]
    }
   ],
   "source": [
    "from sklearn.metrics import precision_score, recall_score, f1_score\n",
    "precision = precision_score(y_test, pred)\n",
    "recall = recall_score(y_test, pred)\n",
    "f1 = f1_score(y_test, pred)\n",
    "\n",
    "print('Precision:',precision)\n",
    "print('Recall:',recall)\n",
    "print('F1 score: ',f1)"
   ]
  },
  {
   "cell_type": "markdown",
   "id": "5fc790bb",
   "metadata": {},
   "source": [
    "### True Positive Rate, False Positive Rate"
   ]
  },
  {
   "cell_type": "code",
   "execution_count": 34,
   "id": "c9ba6ff3",
   "metadata": {},
   "outputs": [
    {
     "name": "stdout",
     "output_type": "stream",
     "text": [
      "True Positive Rate:  0.8152847662801721\n",
      "False Positive Rate:  0.008353484282259837\n"
     ]
    }
   ],
   "source": [
    "from sklearn.metrics import confusion_matrix\n",
    "tn, fp, fn, tp = confusion_matrix(y_test, pred).ravel()\n",
    "tpr = tp / (tp + fn)\n",
    "fpr = fp / (fp + tn)\n",
    "print('True Positive Rate: ', tpr)\n",
    "print('False Positive Rate: ', fpr)"
   ]
  }
 ],
 "metadata": {
  "kernelspec": {
   "display_name": "Python 3 (ipykernel)",
   "language": "python",
   "name": "python3"
  },
  "language_info": {
   "codemirror_mode": {
    "name": "ipython",
    "version": 3
   },
   "file_extension": ".py",
   "mimetype": "text/x-python",
   "name": "python",
   "nbconvert_exporter": "python",
   "pygments_lexer": "ipython3",
   "version": "3.9.7"
  }
 },
 "nbformat": 4,
 "nbformat_minor": 5
}
